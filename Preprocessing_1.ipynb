{
  "cells": [
    {
      "cell_type": "markdown",
      "metadata": {
        "id": "w_Q8ZYjwGIEt"
      },
      "source": [
        "#Preprocessing-1\n",
        "-----------------\n",
        "**Özgün Yargı**\n",
        "\n",
        "**NOTE:** Execution of the code was done in the computer (not in Colab)."
      ]
    },
    {
      "cell_type": "code",
      "execution_count": null,
      "metadata": {
        "id": "j6TOFUexGHVI"
      },
      "outputs": [],
      "source": [
        "DATA_PATH = r\"D:\\Users\\suuser\\Desktop\\HouseNumberDetection\\Detection\\train\"\n",
        "OUTPUT_PATH = r\"D:\\Users\\suuser\\Desktop\\HouseNumberDetection\\resized_300\"\n",
        "IMAGE_PATH = r\"D:\\Users\\suuser\\Desktop\\HouseNumberDetection\\resized_300\\4.png\"\n",
        "\n",
        "import os\n",
        "import glob\n",
        "import json as js\n",
        "import cv2\n",
        "\n",
        "dict_ = {}\n",
        "namelist = []\n",
        "height = []\n",
        "width = []\n",
        "indx =  []\n",
        "\n",
        "counter = 1\n",
        "\n",
        "for name in glob.glob(r\"{}\\*.png\".format(DATA_PATH)):\n",
        "\n",
        "    img_name = name[DATA_PATH.index(\"train\")+6:]\n",
        "    namelist.append(img_name)\n",
        "    image = cv2.imread(name)\n",
        "    height.append(image.shape[0])\n",
        "    width.append(image.shape[1])\n",
        "    indx.append(int(img_name[:-4])-1)\n",
        "\n",
        "    w = 300\n",
        "    h = 300\n",
        "    dim = (w, h)\n",
        "    filename = img_name\n",
        "\n",
        "    # resize image\n",
        "    resized = cv2.resize(image, dim, interpolation = cv2.INTER_AREA)\n",
        "\n",
        "    os.chdir(OUTPUT_PATH)\n",
        "    cv2.imwrite(filename, resized)\n",
        "\n",
        "    os.chdir(DATA_PATH)\n",
        "\n",
        "    counter += 1\n",
        "\n",
        "dict_[\"image_names\"] = namelist\n",
        "dict_[\"image_width\"] = width\n",
        "dict_[\"image_height\"] = height\n",
        "dict_[\"image_index\"] = indx\n",
        "\n",
        "counter = 0\n",
        "\n",
        "newdict = {}\n",
        "\n",
        "n_namelist = []\n",
        "n_height = []\n",
        "n_width = []\n",
        "n_indx =  []\n",
        "\n",
        "for i in dict_[\"image_index\"]:\n",
        "\n",
        "    index = dict_[\"image_index\"].index(counter)\n",
        "\n",
        "    n_namelist.append(dict_[\"image_names\"][index])\n",
        "    n_width.append(dict_[\"image_width\"][index])\n",
        "    n_height.append(dict_[\"image_height\"][index])\n",
        "    n_indx.append(dict_[\"image_index\"][index])\n",
        "\n",
        "    counter += 1\n",
        "\n",
        "newdict[\"image_names\"] = n_namelist\n",
        "newdict[\"image_width\"] = n_width\n",
        "newdict[\"image_height\"] = n_height\n",
        "newdict[\"image_index\"] = n_indx\n",
        "\n",
        "with open('image_names.json', 'w') as fp:\n",
        "    js.dump(newdict, fp, indent=4)"
      ]
    },
    {
      "cell_type": "markdown",
      "metadata": {
        "id": "kjusAL14GVcq"
      },
      "source": [
        "## Check Whether Bounding Boxes Normalized Correctly"
      ]
    },
    {
      "cell_type": "code",
      "execution_count": null,
      "metadata": {
        "id": "kx_HTP84GfTI"
      },
      "outputs": [],
      "source": [
        "w = 300\n",
        "h = 300\n",
        "\n",
        "x_center = 0.400621 * w\n",
        "y_center = 0.379747 * h\n",
        "width = 0.093168 * w\n",
        "height = 0.430380 * h\n",
        "\n",
        "image= cv2.imread(IMAGE_PATH)\n",
        "\n",
        "# Window name in which image is displayed\n",
        "window_name = 'image'\n",
        "\n",
        "# Start coordinate, here (5, 5)\n",
        "# represents the top left corner of rectangle\n",
        "start_point = (int(x_center-width/2), int(y_center-height/2))\n",
        "\n",
        "# Ending coordinate, here (220, 220)\n",
        "# represents the bottom right corner of rectangle\n",
        "end_point = (int(x_center+width/2), int(y_center+height/2))\n",
        "\n",
        "# Blue color in BGR\n",
        "color = (255, 0, 0)\n",
        "\n",
        "# Line thickness of 2 px\n",
        "thickness = 2\n",
        "\n",
        "# Using cv2.rectangle() method\n",
        "# Draw a rectangle with blue line borders of thickness of 2 px\n",
        "image = cv2.rectangle(image, start_point, end_point, color, thickness)\n",
        "\n",
        "# Using cv2.imshow() method\n",
        "# Displaying the image\n",
        "cv2.imshow(window_name, image)\n",
        "\n",
        "#waits for user to press any key\n",
        "#(this is necessary to avoid Python kernel form crashing)\n",
        "cv2.waitKey(0)\n",
        "\n",
        "#closing all open windows\n",
        "cv2.destroyAllWindows()"
      ]
    }
  ],
  "metadata": {
    "colab": {
      "collapsed_sections": [],
      "provenance": []
    },
    "kernelspec": {
      "display_name": "Python 3",
      "language": "python",
      "name": "python3"
    },
    "language_info": {
      "name": "python",
      "version": "3.8.6 (tags/v3.8.6:db45529, Sep 23 2020, 15:52:53) [MSC v.1927 64 bit (AMD64)]"
    },
    "vscode": {
      "interpreter": {
        "hash": "3871db0c80cf644179281cfa1b732df82c64ec712a5f5e68a18b4fa12b33a72e"
      }
    }
  },
  "nbformat": 4,
  "nbformat_minor": 0
}
